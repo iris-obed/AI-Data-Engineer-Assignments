{
  "nbformat": 4,
  "nbformat_minor": 0,
  "metadata": {
    "colab": {
      "provenance": [],
      "authorship_tag": "ABX9TyMWjdGDsfb1PqDa8Tb8JAmA",
      "include_colab_link": true
    },
    "kernelspec": {
      "name": "python3",
      "display_name": "Python 3"
    },
    "language_info": {
      "name": "python"
    }
  },
  "cells": [
    {
      "cell_type": "markdown",
      "metadata": {
        "id": "view-in-github",
        "colab_type": "text"
      },
      "source": [
        "<a href=\"https://colab.research.google.com/github/iris-obed/AI-Data-Engineer-Assignments/blob/master/Implementing_matrix_multiplication.ipynb\" target=\"_parent\"><img src=\"https://colab.research.google.com/assets/colab-badge.svg\" alt=\"Open In Colab\"/></a>"
      ]
    },
    {
      "cell_type": "markdown",
      "source": [
        "# **Problem 1:** Calculating matrix multiplication by hand\n",
        "\n",
        "\n",
        "**Given Matrices**:\n",
        "\n",
        "**Matrix ( A )**:\n",
        "[\n",
        "A =\n",
        "\\begin{bmatrix}\n",
        "-1 & 2 & 3 \\\n",
        "4 & -5 & 6 \\\n",
        "7 & 8 & -9 \\\n",
        "\\end{bmatrix}\n",
        "]\n",
        "\n",
        "**Matrix ( B )**:\n",
        "[\n",
        "B =\n",
        "\\begin{bmatrix}\n",
        "0 & 2 & 1 \\\n",
        "0 & 2 & -8 \\\n",
        "2 & 9 & -1 \\\n",
        "\\end{bmatrix}\n",
        "]\n",
        "\n",
        "\n",
        "**Matrix Multiplication Process**:\n",
        "\n",
        "1- Dot Product Calculation: For each element ( c_{ij} ) in the resulting matrix ( C ), you sum the products of the corresponding elements from the ( i )-th row of matrix ( A ) and the ( j )-th column of matrix ( B ).\n",
        "\n",
        "\n",
        "\n",
        "2- Matrix Dimensions: Matrix ( A ) is ( 3 \\times 3 ) and matrix ( B ) is ( 3 \\times 3 ). The resulting matrix ( C ) will also be ( 3 \\times 3 ).\n",
        "\n",
        "\n",
        "Calculation of Elements in Matrix ( C ):\n",
        "\n",
        "Element ( c_{11} ):\n",
        "[\n",
        "c_{11} = (-1)(0) + (2)(0) + (3)(2) = 0 + 0 + 6 = 6\n",
        "]\n",
        "\n",
        "Element ( c_{12} ):\n",
        "[\n",
        "c_{12} = (-1)(2) + (2)(2) + (3)(9) = -2 + 4 + 27 = 29\n",
        "]\n",
        "\n",
        "Element ( c_{13} ):\n",
        "[\n",
        "c_{13} = (-1)(1) + (2)(-8) + (3)(-1) = -1 - 16 - 3 = -20\n",
        "]\n",
        "\n",
        "Element ( c_{21} ):\n",
        "[\n",
        "c_{21} = (4)(0) + (-5)(0) + (6)(2) = 0 + 0 + 12 = 12\n",
        "]\n",
        "\n",
        "Element ( c_{22} ):\n",
        "[\n",
        "c_{22} = (4)(2) + (-5)(2) + (6)(9) = 8 - 10 + 54 = 52\n",
        "]\n",
        "\n",
        "Element ( c_{23} ):\n",
        "[\n",
        "c_{23} = (4)(1) + (-5)(-8) + (6)(-1) = 4 + 40 - 6 = 38\n",
        "]\n",
        "\n",
        "Element ( c_{31} ):\n",
        "[\n",
        "c_{31} = (7)(0) + (8)(0) + (-9)(2) = 0 + 0 - 18 = -18\n",
        "]\n",
        "\n",
        "Element ( c_{32} ):\n",
        "[\n",
        "c_{32} = (7)(2) + (8)(2) + (-9)(9) = 14 + 16 - 81 = -51\n",
        "]\n",
        "\n",
        "Element ( c_{33} ):\n",
        "[\n",
        "c_{33} = (7)(1) + (8)(-8) + (-9)(-1) = 7 - 64 + 9 = -48\n",
        "]\n",
        "\n",
        "**Resulting Matrix ( C )**:\n",
        "\n",
        "[\n",
        "C =\n",
        "\\begin{bmatrix}\n",
        "6 & 29 & -20 \\\n",
        "12 & 52 & 38 \\\n",
        "-18 & -51 & -48 \\\n",
        "\\end{bmatrix}\n",
        "]"
      ],
      "metadata": {
        "id": "M0LhPd0Ap_G7"
      }
    },
    {
      "cell_type": "markdown",
      "source": [
        "# **Problem 2**: Calculation using NumPy functions"
      ],
      "metadata": {
        "id": "30dq8pqrr3Hh"
      }
    },
    {
      "cell_type": "code",
      "execution_count": 2,
      "metadata": {
        "colab": {
          "base_uri": "https://localhost:8080/"
        },
        "id": "k3B_EIVPfgOK",
        "outputId": "c4bc712f-94a5-4f9c-9a5c-e3c2ab2a9760"
      },
      "outputs": [
        {
          "output_type": "stream",
          "name": "stdout",
          "text": [
            "Result using np.matmul():\n",
            " [[  6  29 -20]\n",
            " [ 12  52  38]\n",
            " [-18 -51 -48]]\n",
            "\n",
            "Result using np.dot():\n",
            " [[  6  29 -20]\n",
            " [ 12  52  38]\n",
            " [-18 -51 -48]]\n",
            "\n",
            "Result using operador @:\n",
            " [[  6  29 -20]\n",
            " [ 12  52  38]\n",
            " [-18 -51 -48]]\n"
          ]
        }
      ],
      "source": [
        "import numpy as np\n",
        "\n",
        "# Given Matrices\n",
        "A = np.array([[-1, 2, 3],\n",
        "              [4, -5, 6],\n",
        "              [7, 8, -9]])\n",
        "\n",
        "B = np.array([[0, 2, 1],\n",
        "              [0, 2, -8],\n",
        "              [2, 9, -1]])\n",
        "\n",
        "# Calculating the matrix product using np.matmul()\n",
        "C_matmul = np.matmul(A, B)\n",
        "\n",
        "# Calculating the matrix product using np.dot()\n",
        "C_dot = np.dot(A, B)\n",
        "\n",
        "# Calculating the matrix product using @\n",
        "C_at = A @ B\n",
        "\n",
        "# Resulting Matrices\n",
        "print(\"Result using np.matmul():\\n\", C_matmul)\n",
        "print(\"\\nResult using np.dot():\\n\", C_dot)\n",
        "print(\"\\nResult using operador @:\\n\", C_at)"
      ]
    },
    {
      "cell_type": "markdown",
      "source": [
        "# **Problem 3**: Implementing calculations for a certain element"
      ],
      "metadata": {
        "id": "aMEzTM0HtBkL"
      }
    },
    {
      "cell_type": "code",
      "source": [
        "import numpy as np\n",
        "\n",
        "# Given Matrices\n",
        "A = np.array([[-1, 2, 3],\n",
        "              [4, -5, 6],\n",
        "              [7, 8, -9]])\n",
        "\n",
        "B = np.array([[0, 2, 1],\n",
        "              [0, 2, -8],\n",
        "              [2, 9, -1]])\n",
        "\n",
        "# Initializing the C matrix with zeros\n",
        "rows_A, cols_A = A.shape\n",
        "rows_B, cols_B = B.shape\n",
        "C = np.zeros((rows_A, cols_B))\n",
        "\n",
        "# Implementing the matrix product without np.matmul() or np.dot()\n",
        "for i in range(rows_A):\n",
        "    for j in range(cols_B):\n",
        "        for k in range(cols_A):\n",
        "            C[i][j] += A[i][k] * B[k][j]\n",
        "\n",
        "# Resulting Matrix\n",
        "print(\"Matrix C (result of A * B):\")\n",
        "print(C)"
      ],
      "metadata": {
        "colab": {
          "base_uri": "https://localhost:8080/"
        },
        "id": "cMLiwsMatJV6",
        "outputId": "c6d26053-e2cb-4fab-8223-223826026af8"
      },
      "execution_count": 5,
      "outputs": [
        {
          "output_type": "stream",
          "name": "stdout",
          "text": [
            "Matrix C (result of A * B):\n",
            "[[  6.  29. -20.]\n",
            " [ 12.  52.  38.]\n",
            " [-18. -51. -48.]]\n"
          ]
        }
      ]
    },
    {
      "cell_type": "markdown",
      "source": [
        "# **Problem 4**: Creating a function to perform matrix multiplication"
      ],
      "metadata": {
        "id": "GLIdGnyqw-hI"
      }
    },
    {
      "cell_type": "code",
      "source": [
        "import numpy as np\n",
        "\n",
        "def matrix_multiply(A, B):\n",
        "    # Obtains the dimensions of the matrices\n",
        "    rows_A, cols_A = len(A), len(A[0])\n",
        "    rows_B, cols_B = len(B), len(B[0])\n",
        "\n",
        "    # Initializes the result matrix C with zeros\n",
        "    C = [[0] * cols_B for _ in range(rows_A)]\n",
        "\n",
        "    # Matrix multiplication\n",
        "    for i in range(rows_A):\n",
        "        for j in range(cols_B):\n",
        "            for k in range(cols_A):\n",
        "                C[i][j] += A[i][k] * B[k][j]\n",
        "\n",
        "    return C\n",
        "\n",
        "# Given Matrices\n",
        "A = [[-1, 2, 3],\n",
        "     [4, -5, 6],\n",
        "     [7, 8, -9]]\n",
        "\n",
        "B = [[0, 2, 1],\n",
        "     [0, 2, -8],\n",
        "     [2, 9, -1]]\n",
        "\n",
        "# Calculate the product of matrices\n",
        "C = matrix_multiply(A, B)\n",
        "\n",
        "# Result\n",
        "print(\"Matrix C (result of A * B):\")\n",
        "for row in C:\n",
        "    print(row)"
      ],
      "metadata": {
        "colab": {
          "base_uri": "https://localhost:8080/"
        },
        "id": "5stn-y3DxH_C",
        "outputId": "50ae4feb-53e2-49a7-c9e8-7e5980a76a62"
      },
      "execution_count": 7,
      "outputs": [
        {
          "output_type": "stream",
          "name": "stdout",
          "text": [
            "Matrix C (result of A * B):\n",
            "[6, 29, -20]\n",
            "[12, 52, 38]\n",
            "[-18, -51, -48]\n"
          ]
        }
      ]
    },
    {
      "cell_type": "markdown",
      "source": [
        "# **Problem 5**: Evaluating inputs that are not defined"
      ],
      "metadata": {
        "id": "0kGNzoFwyKkm"
      }
    },
    {
      "cell_type": "code",
      "source": [
        "def validate_and_multiply(D, E):\n",
        "    # Check the dimensions of the matrices\n",
        "    rows_D, cols_D = len(D), len(D[0])\n",
        "    rows_E, cols_E = len(E), len(E[0])\n",
        "\n",
        "    # Verifica se a multiplicação é possível\n",
        "    if cols_D != rows_E:\n",
        "        return (\"Error: Matrix multiplication not defined.\"\n",
        "         \"Number of columns in the first matrix must equal the number of rows in the second matrix.\")\n",
        "\n",
        "    # Initializes the result matrix C with zeros\n",
        "    F = [[0] * cols_E for _ in range(rows_D)]\n",
        "\n",
        "    # Matrix multiplication\n",
        "    for i in range(rows_D):\n",
        "        for j in range(cols_E):\n",
        "            for k in range(cols_D):\n",
        "                F[i][j] += D[i][k] * E[k][j]\n",
        "\n",
        "    return F\n",
        "\n",
        "# Given Matrices\n",
        "D = [[-1, 2, 3],\n",
        "     [4, -5, 6]]\n",
        "\n",
        "E = [[-9, 8, 7],\n",
        "     [6, -5, 4]]\n",
        "\n",
        "# Testing multiplication\n",
        "result = validate_and_multiply(D, E)\n",
        "\n",
        "# Shows the result or error\n",
        "print(result)\n",
        "\n",
        "\n"
      ],
      "metadata": {
        "colab": {
          "base_uri": "https://localhost:8080/"
        },
        "id": "A4-lglu5yVN9",
        "outputId": "a5f2fb9d-7d1f-4f90-8377-8efcd3649f44"
      },
      "execution_count": 12,
      "outputs": [
        {
          "output_type": "stream",
          "name": "stdout",
          "text": [
            "Error: Matrix multiplication not defined.Number of columns in the first matrix must equal the number of rows in the second matrix.\n"
          ]
        }
      ]
    },
    {
      "cell_type": "markdown",
      "source": [
        "# **Problem 6**: Transposition"
      ],
      "metadata": {
        "id": "rVwHDN5I28Qp"
      }
    },
    {
      "cell_type": "code",
      "source": [
        "import numpy as np\n",
        "\n",
        "# Given Matrices\n",
        "D = np.array([[-1, 2, 3],\n",
        "              [4, -5, 6]])\n",
        "\n",
        "E = np.array([[-9, 8, 7],\n",
        "              [6, -5, 4]])\n",
        "\n",
        "# Transpose matrix E\n",
        "E_T = np.transpose(E)\n",
        "\n",
        "# Check that multiplications now possible\n",
        "#Number of columns in D must be equal to the number of rows in E_T\n",
        "if D.shape[1] == E_T.shape[0]:\n",
        "    C = np.matmul(D, E_T)  #\n",
        "    print(\"Result of multiplication after transposition:\")\n",
        "    print(C)\n",
        "else:\n",
        "    print(\"Error: Multiplication is not yet defined after transposition.\")"
      ],
      "metadata": {
        "colab": {
          "base_uri": "https://localhost:8080/"
        },
        "id": "dOwB_VSx3Dqh",
        "outputId": "eaea0db6-6954-4fda-e6d1-b15a9f2da2dd"
      },
      "execution_count": 14,
      "outputs": [
        {
          "output_type": "stream",
          "name": "stdout",
          "text": [
            "Result of multiplication after transposition:\n",
            "[[ 46  -4]\n",
            " [-34  73]]\n"
          ]
        }
      ]
    }
  ]
}
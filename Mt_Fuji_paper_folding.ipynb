{
  "nbformat": 4,
  "nbformat_minor": 0,
  "metadata": {
    "colab": {
      "provenance": [],
      "authorship_tag": "ABX9TyODQ69v5krGcr3lyPE7/QBO",
      "include_colab_link": true
    },
    "kernelspec": {
      "name": "python3",
      "display_name": "Python 3"
    },
    "language_info": {
      "name": "python"
    }
  },
  "cells": [
    {
      "cell_type": "markdown",
      "metadata": {
        "id": "view-in-github",
        "colab_type": "text"
      },
      "source": [
        "<a href=\"https://colab.research.google.com/github/iris-obed/AI-Data-Engineer-Assignments/blob/master/Mt_Fuji_paper_folding.ipynb\" target=\"_parent\"><img src=\"https://colab.research.google.com/assets/colab-badge.svg\" alt=\"Open In Colab\"/></a>"
      ]
    },
    {
      "cell_type": "code",
      "execution_count": 4,
      "metadata": {
        "colab": {
          "base_uri": "https://localhost:8080/"
        },
        "id": "pHnfIc1PhTdZ",
        "outputId": "f2f02afc-1102-438b-b7f2-0f76679af6b4"
      },
      "outputs": [
        {
          "output_type": "stream",
          "name": "stdout",
          "text": [
            "The minimum number of times to fold the paper required for the thickness to exceed the height of Mt. Fuji (3776m): 26\n"
          ]
        }
      ],
      "source": [
        "# Problem 1:How many times to fold paper to exceed the height of Mt.Fuji?\n",
        "\n",
        "#constants\n",
        "initial_thickness = 0.00008\n",
        "height_of_mt_fuji = 3776\n",
        "\n",
        "#variables\n",
        "current_thickness = initial_thickness\n",
        "folds = 0\n",
        "\n",
        "# Calculating the number of folds required\n",
        "while current_thickness < height_of_mt_fuji:\n",
        "    current_thickness *= 2\n",
        "    folds += 1\n",
        "\n",
        "print(f\"The minimum number of times to fold the paper required for the thickness to exceed the height of Mt. Fuji (3776m): {folds}\")"
      ]
    },
    {
      "cell_type": "code",
      "source": [
        "#Problem 2:  Function corresponding to arbitrary thickness\n",
        "\n",
        "#Constants\n",
        "initial_thickness = 0.00008\n",
        "\n",
        "def folds_for_arbitrary_thickness(initial_thickness, target_height):\n",
        "\n",
        "    thickness = initial_thickness\n",
        "    folds = 0\n",
        "    while thickness < target_height:\n",
        "        thickness *= 2\n",
        "        folds += 1\n",
        "    return folds\n",
        "\n",
        "# Requesting user input for the height\n",
        "target_height = float(input(\"Enter the target height or distance (in meters): \"))\n",
        "\n",
        "\n",
        "# Calculating the number of folds required\n",
        "folds = folds_for_arbitrary_thickness(initial_thickness, target_height)\n",
        "\n",
        "# output\n",
        "print(f\"You need to fold the paper {folds} times to exceed the target height or distance.\")"
      ],
      "metadata": {
        "colab": {
          "base_uri": "https://localhost:8080/"
        },
        "id": "AVb9ZKfRjU6N",
        "outputId": "4383f16f-a99b-4493-e1d6-4865e4be0d63"
      },
      "execution_count": 7,
      "outputs": [
        {
          "output_type": "stream",
          "name": "stdout",
          "text": [
            "Enter the target height or distance (in meters): 40175000000000000\n",
            "You need to fold the paper 69 times to exceed the target height or distance.\n"
          ]
        }
      ]
    },
    {
      "cell_type": "code",
      "source": [
        "#Problem 3: Required paper length\n",
        "\n",
        "import math\n",
        "\n",
        "def calculate_folds(target_height):\n",
        "\n",
        "    #Calculate the number of folds to exceed the desired height\n",
        "\n",
        "    folds = 0\n",
        "    initial_thickness=0.00008\n",
        "    current_thickness = initial_thickness\n",
        "    while current_thickness < target_height:\n",
        "        current_thickness *= 2\n",
        "        folds += 1\n",
        "    return folds\n",
        "\n",
        "def required_paper_length(target_height):\n",
        "\n",
        "    #Calculates the length of paper needed to fold it n times\n",
        "\n",
        "    n = calculate_folds(target_height)\n",
        "    initial_thickness=0.00008\n",
        "    length = (math.pi * initial_thickness / 6) * (2*n + 4) * (2*n - 1)\n",
        "    return length\n",
        "\n",
        "\n",
        "# Target heights in meters\n",
        "height_moon = 384400000\n",
        "height_fuji = 3776\n",
        "height_proxima_centauri = 4.0175 * 10**16\n",
        "\n",
        "# Calculating the paper length for each height\n",
        "print(\"Mt. Fuji:\", required_paper_length(height_fuji), \"meters\")\n",
        "print(\"Moon:\", required_paper_length(height_moon), \"meters\")\n",
        "print(\"Proxima Centauri:\", required_paper_length(height_proxima_centauri), \"meters\")"
      ],
      "metadata": {
        "colab": {
          "base_uri": "https://localhost:8080/"
        },
        "id": "qVIQHPJ0JmcN",
        "outputId": "0e6fc8e1-610e-4f3a-afc2-558de46b5466"
      },
      "execution_count": 21,
      "outputs": [
        {
          "output_type": "stream",
          "name": "stdout",
          "text": [
            "Mt. Fuji: 0.11963184824869934 meters\n",
            "Moon: 0.32044245066615895 meters\n",
            "Proxima Centauri: 0.8148872464391447 meters\n"
          ]
        }
      ]
    }
  ]
}
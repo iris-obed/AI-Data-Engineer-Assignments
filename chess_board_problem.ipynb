{
  "nbformat": 4,
  "nbformat_minor": 0,
  "metadata": {
    "colab": {
      "provenance": [],
      "authorship_tag": "ABX9TyOjUYYC25gVYoNwMWMu7dRX",
      "include_colab_link": true
    },
    "kernelspec": {
      "name": "python3",
      "display_name": "Python 3"
    },
    "language_info": {
      "name": "python"
    }
  },
  "cells": [
    {
      "cell_type": "markdown",
      "metadata": {
        "id": "view-in-github",
        "colab_type": "text"
      },
      "source": [
        "<a href=\"https://colab.research.google.com/github/iris-obed/AI-Data-Engineer-Assignments/blob/master/chess_board_problem.ipynb\" target=\"_parent\"><img src=\"https://colab.research.google.com/assets/colab-badge.svg\" alt=\"Open In Colab\"/></a>"
      ]
    },
    {
      "cell_type": "markdown",
      "source": [
        "# **Problem 1:** Number of wheat on a 2 x 2 square chess board"
      ],
      "metadata": {
        "id": "Ca303owerdvi"
      }
    },
    {
      "cell_type": "code",
      "source": [
        "import numpy as np\n",
        "\n",
        "# Define the number of squares for a 2x2 chessboard\n",
        "n_squares = 2**2\n",
        "\n",
        "# Create the list with the number of grains on each square\n",
        "small_board_list = [1]\n",
        "for _ in range(n_squares - 1):\n",
        "    small_board_list.append(2 * small_board_list[-1])\n",
        "\n",
        "# Converting the list to a NumPy ndarray\n",
        "small_board_ndarray = np.array(small_board_list)\n",
        "\n",
        "# Reshape the array to a 2x2 chessboard\n",
        "small_board_ndarray_reshaped = small_board_ndarray.reshape(2, 2)\n",
        "\n",
        "# Results\n",
        "print(small_board_ndarray_reshaped)"
      ],
      "metadata": {
        "colab": {
          "base_uri": "https://localhost:8080/"
        },
        "id": "4eR5QWSbjeXe",
        "outputId": "85cb6dcb-31c7-49b8-ae94-128e20bc83bc"
      },
      "execution_count": 3,
      "outputs": [
        {
          "output_type": "stream",
          "name": "stdout",
          "text": [
            "[[1 2]\n",
            " [4 8]]\n"
          ]
        }
      ]
    },
    {
      "cell_type": "markdown",
      "source": [
        "# **Problem 2:** Expansion to n × m mass"
      ],
      "metadata": {
        "id": "uXWTSVPklXWm"
      }
    },
    {
      "cell_type": "code",
      "source": [
        "import numpy as np\n",
        "\n",
        "\n",
        "# Returns an ndarray representing the number of grains of wheat in an nxm chess board\n",
        "def wheat_on_chessboard(n, m):\n",
        "\n",
        "    total_squares = n * m\n",
        "    wheat_list = [1]\n",
        "\n",
        "    for _ in range(total_squares - 1):\n",
        "        wheat_list.append(2 * wheat_list[-1])\n",
        "\n",
        "\n",
        "    return np.array(wheat_list).reshape(n, m)\n",
        "\n",
        "# Calculating the grains in an 8x8 chess board\n",
        "chessboard_8x8 = wheat_on_chessboard(8, 8)\n",
        "print(chessboard_8x8)"
      ],
      "metadata": {
        "colab": {
          "base_uri": "https://localhost:8080/"
        },
        "id": "DYqIikaylbaK",
        "outputId": "05d5a34c-5d86-4342-c05b-788dd270da09"
      },
      "execution_count": 5,
      "outputs": [
        {
          "output_type": "stream",
          "name": "stdout",
          "text": [
            "[[1.00000000e+00 2.00000000e+00 4.00000000e+00 8.00000000e+00\n",
            "  1.60000000e+01 3.20000000e+01 6.40000000e+01 1.28000000e+02]\n",
            " [2.56000000e+02 5.12000000e+02 1.02400000e+03 2.04800000e+03\n",
            "  4.09600000e+03 8.19200000e+03 1.63840000e+04 3.27680000e+04]\n",
            " [6.55360000e+04 1.31072000e+05 2.62144000e+05 5.24288000e+05\n",
            "  1.04857600e+06 2.09715200e+06 4.19430400e+06 8.38860800e+06]\n",
            " [1.67772160e+07 3.35544320e+07 6.71088640e+07 1.34217728e+08\n",
            "  2.68435456e+08 5.36870912e+08 1.07374182e+09 2.14748365e+09]\n",
            " [4.29496730e+09 8.58993459e+09 1.71798692e+10 3.43597384e+10\n",
            "  6.87194767e+10 1.37438953e+11 2.74877907e+11 5.49755814e+11]\n",
            " [1.09951163e+12 2.19902326e+12 4.39804651e+12 8.79609302e+12\n",
            "  1.75921860e+13 3.51843721e+13 7.03687442e+13 1.40737488e+14]\n",
            " [2.81474977e+14 5.62949953e+14 1.12589991e+15 2.25179981e+15\n",
            "  4.50359963e+15 9.00719925e+15 1.80143985e+16 3.60287970e+16]\n",
            " [7.20575940e+16 1.44115188e+17 2.88230376e+17 5.76460752e+17\n",
            "  1.15292150e+18 2.30584301e+18 4.61168602e+18 9.22337204e+18]]\n"
          ]
        }
      ]
    },
    {
      "cell_type": "markdown",
      "source": [
        "# **Problema 3:** Total number of wheat"
      ],
      "metadata": {
        "id": "gtvx9cjYn0AX"
      }
    },
    {
      "cell_type": "code",
      "source": [
        "import numpy as np\n",
        "import matplotlib.pyplot as plt\n",
        "\n",
        "\n",
        "# Returns a NumPy ndarray representing the number of wheat grains on an n x m chessboard\n",
        "def wheat_on_chessboard(n, m):\n",
        "\n",
        "    total_squares = n * m\n",
        "\n",
        "\n",
        "    wheat_list = [1]\n",
        "    for _ in range(total_squares - 1):\n",
        "        wheat_list.append(2 * wheat_list[-1])\n",
        "\n",
        "    return np.array(wheat_list).reshape(n, m)\n",
        "\n",
        "# Calculate the number of wheat grains on an 8x8 chessboard\n",
        "chessboard_8x8 = wheat_on_chessboard(8, 8)\n",
        "\n",
        "# Calculate the total number of wheat grains\n",
        "total_wheat = chessboard_8x8.sum()\n",
        "\n",
        "# Calculate the average number of wheat grains in each column\n",
        "column_averages = chessboard_8x8.mean(axis=0)\n",
        "\n",
        "# Plot the bar chart\n",
        "plt.figure(figsize=(10, 6))\n",
        "plt.bar(np.arange(1, 9), column_averages, color='orange')\n",
        "plt.xlabel(\"Column\")\n",
        "plt.ylabel(\"Average Number of Wheat Grains\")\n",
        "plt.title(\"Average Number of Wheat Grains in Each Column\")\n",
        "plt.xticks(np.arange(1, 9))\n",
        "plt.show()\n",
        "\n",
        "print (f\"Total number of wheats is: {total_wheat}\")\n",
        "print (f\"Average of each column on 8x8 chess board: \\n {column_averages}\")\n"
      ],
      "metadata": {
        "colab": {
          "base_uri": "https://localhost:8080/",
          "height": 534
        },
        "id": "wMLPkqPFoCri",
        "outputId": "4c202572-677b-463f-816f-10bbec5a1aa8"
      },
      "execution_count": 19,
      "outputs": [
        {
          "output_type": "display_data",
          "data": {
            "text/plain": [
              "<Figure size 1000x600 with 1 Axes>"
            ],
            "image/png": "[encoded data removed]"
          },
          "metadata": {}
        },
        {
          "output_type": "stream",
          "name": "stdout",
          "text": [
            "Total number of wheats is: 1.8446744073709552e+19\n",
            "Average of each column on 8x8 chess board: \n",
            " [9.04252160e+15 1.80850432e+16 3.61700864e+16 7.23401728e+16\n",
            " 1.44680346e+17 2.89360691e+17 5.78721383e+17 1.15744277e+18]\n"
          ]
        }
      ]
    },
    {
      "cell_type": "markdown",
      "source": [
        "# **Problem 4:** Heat map of the number of wheat"
      ],
      "metadata": {
        "id": "FnILMI4Srr8F"
      }
    },
    {
      "cell_type": "code",
      "source": [
        "import numpy as np\n",
        "import matplotlib.pyplot as plt\n",
        "\n",
        "\n",
        "# Returns an ndarray representing the number of grains of wheat in an nxm chess board\n",
        "def wheat_on_chessboard(n, m):\n",
        "\n",
        "\n",
        "    total_squares = n * m\n",
        "    wheat_list = [1]\n",
        "    for _ in range(total_squares - 1):\n",
        "        wheat_list.append(2 * wheat_list[-1])\n",
        "    return np.array(wheat_list).reshape(n, m)\n",
        "\n",
        "\n",
        "chessboard_8x8 = wheat_on_chessboard(8, 8)\n",
        "\n",
        "# Generate the heatmap\n",
        "plt.figure(figsize=(8, 6))\n",
        "plt.xlabel(\"Column\")\n",
        "plt.ylabel(\"Row\")\n",
        "plt.title(\"Heatmap of Wheat Grains on 8x8 Chessboard\")\n",
        "plt.pcolor(chessboard_8x8, cmap='plasma', shading='auto')\n",
        "plt.colorbar(label=\"Number of Wheat Grains\")\n",
        "plt.show()"
      ],
      "metadata": {
        "colab": {
          "base_uri": "https://localhost:8080/",
          "height": 564
        },
        "id": "h433Ya1cr57t",
        "outputId": "05675761-9707-4d39-be1f-8e6c1e191c85"
      },
      "execution_count": 2,
      "outputs": [
        {
          "output_type": "display_data",
          "data": {
            "text/plain": [
              "<Figure size 800x600 with 2 Axes>"
            ],
            "image/png": "[encoded data removed]"
          },
          "metadata": {}
        }
      ]
    },
    {
      "cell_type": "markdown",
      "source": [
        "# **Problem 5**: How many times is the second half as long as the first half?"
      ],
      "metadata": {
        "id": "Mjjm1om8ja9d"
      }
    },
    {
      "cell_type": "code",
      "source": [
        "import numpy as np\n",
        "\n",
        "\n",
        "# Returns an ndarray representing the number of grains of wheat in an nxm chess board\n",
        "def wheat_on_chessboard(n, m):\n",
        "\n",
        "    total_squares = n * m\n",
        "    wheat_list = [1]\n",
        "    for _ in range(total_squares - 1):\n",
        "        wheat_list.append(2 * wheat_list[-1])\n",
        "    return np.array(wheat_list).reshape(n, m)\n",
        "\n",
        "# Create the 8x8 chess board\n",
        "chessboard_8x8 = wheat_on_chessboard(8, 8)\n",
        "\n",
        "# Divide the board into the first half (rows 0 to 3) and the second half (rows 4 to 7)\n",
        "first_half = chessboard_8x8[:4, :]\n",
        "second_half = chessboard_8x8[4:, :]\n",
        "\n",
        "# Calculates the total number of grains in each half\n",
        "first_half_total = first_half.sum()\n",
        "second_half_total = second_half.sum()\n",
        "\n",
        "# Calculate the ratio between the second half and the first half\n",
        "ratio = second_half_total / first_half_total\n",
        "\n",
        "# Results\n",
        "print(f\" Total grains in the first half: {first_half_total}\")\n",
        "print(f\" Total grains in the second half: {second_half_total}\")\n",
        "print(f\" The second half has {ratio:.0f} times more grain than the first\")"
      ],
      "metadata": {
        "colab": {
          "base_uri": "https://localhost:8080/"
        },
        "id": "Z7LlIzf3joHk",
        "outputId": "3d7ad5f3-fc14-4445-b5f7-8a8a34b4a637"
      },
      "execution_count": 2,
      "outputs": [
        {
          "output_type": "stream",
          "name": "stdout",
          "text": [
            " Total grains in the first half: 4294967295.0\n",
            " Total grains in the second half: 1.8446744069414584e+19\n",
            " The second half has 4294967296 times more grain than the first\n"
          ]
        }
      ]
    },
    {
      "cell_type": "markdown",
      "source": [
        "# **Problem 6:** Expansion to n × m mass by another calculation method"
      ],
      "metadata": {
        "id": "_VDSMCnuSFEv"
      }
    },
    {
      "cell_type": "code",
      "source": [
        "import numpy as np\n",
        "\n",
        "# Function using np.append()\n",
        "def wheat_chessboard_append(n, m):\n",
        "    board_ndarray = np.array([1], dtype=np.uint64)\n",
        "    for _ in range(n * m - 1):\n",
        "        board_ndarray = np.append(board_ndarray, 2 * board_ndarray[-1])\n",
        "    return board_ndarray.reshape((n, m))\n",
        "\n",
        "# Function using broadcast\n",
        "def wheat_chessboard_broadcast(n, m):\n",
        "    indices = np.arange(n * m, dtype=np.uint64)\n",
        "    board_ndarray = 2 ** indices\n",
        "    return board_ndarray.reshape((n, m))\n",
        "\n",
        "# 8x8 chess board using both methods\n",
        "n, m = 8, 8\n",
        "board_append = wheat_chessboard_append(n, m)\n",
        "board_broadcast = wheat_chessboard_broadcast(n, m)\n",
        "\n",
        "# Total sum of grains for each method\n",
        "sum_append = np.sum(board_append)\n",
        "sum_broadcast = np.sum(board_broadcast)\n",
        "\n",
        "\n",
        "# results\n",
        "print (f\"Chess Board using np.append(): \\n {board_append}\")\n",
        "\n",
        "print (f\"Chess Board using broadcast: \\n {board_broadcast}\")\n",
        "\n",
        "print (f\" Sum using np.append(): \\n {sum_append}\")\n",
        "\n",
        "print (f\"Chess Board using broadcast: \\n {sum_broadcast}\")"
      ],
      "metadata": {
        "colab": {
          "base_uri": "https://localhost:8080/"
        },
        "id": "aaBhrLcESjMs",
        "outputId": "a815cdc9-c6e9-437e-aeaa-622400d39c07"
      },
      "execution_count": 5,
      "outputs": [
        {
          "output_type": "stream",
          "name": "stdout",
          "text": [
            "Chess Board using np.append(): \n",
            " [[1.00000000e+00 2.00000000e+00 4.00000000e+00 8.00000000e+00\n",
            "  1.60000000e+01 3.20000000e+01 6.40000000e+01 1.28000000e+02]\n",
            " [2.56000000e+02 5.12000000e+02 1.02400000e+03 2.04800000e+03\n",
            "  4.09600000e+03 8.19200000e+03 1.63840000e+04 3.27680000e+04]\n",
            " [6.55360000e+04 1.31072000e+05 2.62144000e+05 5.24288000e+05\n",
            "  1.04857600e+06 2.09715200e+06 4.19430400e+06 8.38860800e+06]\n",
            " [1.67772160e+07 3.35544320e+07 6.71088640e+07 1.34217728e+08\n",
            "  2.68435456e+08 5.36870912e+08 1.07374182e+09 2.14748365e+09]\n",
            " [4.29496730e+09 8.58993459e+09 1.71798692e+10 3.43597384e+10\n",
            "  6.87194767e+10 1.37438953e+11 2.74877907e+11 5.49755814e+11]\n",
            " [1.09951163e+12 2.19902326e+12 4.39804651e+12 8.79609302e+12\n",
            "  1.75921860e+13 3.51843721e+13 7.03687442e+13 1.40737488e+14]\n",
            " [2.81474977e+14 5.62949953e+14 1.12589991e+15 2.25179981e+15\n",
            "  4.50359963e+15 9.00719925e+15 1.80143985e+16 3.60287970e+16]\n",
            " [7.20575940e+16 1.44115188e+17 2.88230376e+17 5.76460752e+17\n",
            "  1.15292150e+18 2.30584301e+18 4.61168602e+18 9.22337204e+18]]\n",
            "Chess Board using broadcast: \n",
            " [[                  1                   2                   4\n",
            "                    8                  16                  32\n",
            "                   64                 128]\n",
            " [                256                 512                1024\n",
            "                 2048                4096                8192\n",
            "                16384               32768]\n",
            " [              65536              131072              262144\n",
            "               524288             1048576             2097152\n",
            "              4194304             8388608]\n",
            " [           16777216            33554432            67108864\n",
            "            134217728           268435456           536870912\n",
            "           1073741824          2147483648]\n",
            " [         4294967296          8589934592         17179869184\n",
            "          34359738368         68719476736        137438953472\n",
            "         274877906944        549755813888]\n",
            " [      1099511627776       2199023255552       4398046511104\n",
            "        8796093022208      17592186044416      35184372088832\n",
            "       70368744177664     140737488355328]\n",
            " [    281474976710656     562949953421312    1125899906842624\n",
            "     2251799813685248    4503599627370496    9007199254740992\n",
            "    18014398509481984   36028797018963968]\n",
            " [  72057594037927936  144115188075855872  288230376151711744\n",
            "   576460752303423488 1152921504606846976 2305843009213693952\n",
            "  4611686018427387904 9223372036854775808]]\n",
            " Sum using np.append(): \n",
            " 1.8446744073709552e+19\n",
            "Chess Board using broadcast: \n",
            " 18446744073709551615\n"
          ]
        }
      ]
    },
    {
      "cell_type": "markdown",
      "source": [
        "# **Problem 7:** Comparing calculation times"
      ],
      "metadata": {
        "id": "5zHvmeucD1GO"
      }
    },
    {
      "cell_type": "code",
      "source": [
        "# Método 1: Usando listas Python\n",
        "\n",
        "%%timeit\n",
        "import numpy as np\n",
        "\n",
        "def wheat_on_chessboard_list(n, m):\n",
        "    chessboard = []\n",
        "    for i in range(n):\n",
        "        row = []\n",
        "        for j in range(m):\n",
        "            row.append(2 ** (i * m + j))\n",
        "        chessboard.append(row)\n",
        "    return chessboard\n",
        "\n",
        "    wheat_on_chessboard_list(8, 8)"
      ],
      "metadata": {
        "colab": {
          "base_uri": "https://localhost:8080/"
        },
        "id": "WjyRW0ZwEDPh",
        "outputId": "d6dba6c1-3421-4e64-a0e6-6745e13e4043"
      },
      "execution_count": 12,
      "outputs": [
        {
          "output_type": "stream",
          "name": "stdout",
          "text": [
            "249 ns ± 4.98 ns per loop (mean ± std. dev. of 7 runs, 1000000 loops each)\n"
          ]
        }
      ]
    },
    {
      "cell_type": "code",
      "source": [
        "# Método 2: Usando np.append()\n",
        "\n",
        "%%timeit\n",
        "import numpy as np\n",
        "\n",
        "def wheat_on_chessboard_append(n, m):\n",
        "    chessboard = np.array([1], dtype=np.uint64)\n",
        "    for _ in range(1, n * m):\n",
        "        chessboard = np.append(chessboard, 2 * chessboard[-1])\n",
        "    return chessboard.reshape(n, m)\n",
        "\n",
        "wheat_on_chessboard_append(8, 8)\n",
        "\n"
      ],
      "metadata": {
        "colab": {
          "base_uri": "https://localhost:8080/"
        },
        "id": "Pnhd5mUGSylu",
        "outputId": "6462d66a-0e83-4f45-d772-51a6e4651e21"
      },
      "execution_count": 13,
      "outputs": [
        {
          "output_type": "stream",
          "name": "stdout",
          "text": [
            "265 µs ± 15.7 µs per loop (mean ± std. dev. of 7 runs, 1000 loops each)\n"
          ]
        }
      ]
    },
    {
      "cell_type": "code",
      "source": [
        "# Método 3: Usando broadcasting\n",
        "\n",
        "%%timeit\n",
        "import numpy as np\n",
        "\n",
        "def wheat_on_chessboard_broadcast(n, m):\n",
        "    indices = np.arange(n * m, dtype=np.uint64)\n",
        "    return (2 ** indices).reshape(n, m)\n",
        "\n",
        "    wheat_on_chessboard_broadcast(8, 8)"
      ],
      "metadata": {
        "colab": {
          "base_uri": "https://localhost:8080/"
        },
        "id": "g98vMuhlExTQ",
        "outputId": "837885d5-4af7-42a7-c979-92db2074da2f"
      },
      "execution_count": 14,
      "outputs": [
        {
          "output_type": "stream",
          "name": "stdout",
          "text": [
            "255 ns ± 10.7 ns per loop (mean ± std. dev. of 7 runs, 1000000 loops each)\n"
          ]
        }
      ]
    }
  ]
}
{
  "nbformat": 4,
  "nbformat_minor": 0,
  "metadata": {
    "colab": {
      "provenance": [],
      "authorship_tag": "ABX9TyP80MIpoqSCIIdAJQilLI+H",
      "include_colab_link": true
    },
    "kernelspec": {
      "name": "python3",
      "display_name": "Python 3"
    },
    "language_info": {
      "name": "python"
    }
  },
  "cells": [
    {
      "cell_type": "markdown",
      "metadata": {
        "id": "view-in-github",
        "colab_type": "text"
      },
      "source": [
        "<a href=\"https://colab.research.google.com/github/iris-obed/AI-Data-Engineer-Assignments/blob/master/Paper_folding.ipynb\" target=\"_parent\"><img src=\"https://colab.research.google.com/assets/colab-badge.svg\" alt=\"Open In Colab\"/></a>"
      ]
    },
    {
      "cell_type": "code",
      "execution_count": 3,
      "metadata": {
        "colab": {
          "base_uri": "https://localhost:8080/"
        },
        "id": "XADZImjG-RYa",
        "outputId": "82a094c9-cca2-4127-b1f3-2c0ecf65007c"
      },
      "outputs": [
        {
          "output_type": "stream",
          "name": "stdout",
          "text": [
            "Thickness: 703687441.77664 meters\n"
          ]
        }
      ],
      "source": [
        "#Problem 1\n",
        "# Code to calculate the thickness when the paper is folded 43 times in meters\n",
        "\n",
        "THICKNESS = 0.00008\n",
        "folds = 43\n",
        "\n",
        "folded_thickness = THICKNESS * (2**43)\n",
        "\n",
        "print(\"Thickness: {} meters\".format(folded_thickness))"
      ]
    },
    {
      "cell_type": "code",
      "source": [
        "#Problem 2\n",
        "\n",
        "#Converting meters to kilometers\n",
        "\n",
        "folded_thickness_km = folded_thickness / 1000\n",
        "\n",
        "print(\"Thickness after {} folds: {:.2f} kilometers\".format(folds, folded_thickness_km))\n",
        "\n",
        "# Checking if the folded paper arrives to the moon\n",
        "\n",
        "distance_to_moon_km = 384400\n",
        "\n",
        "if folded_thickness_km >= distance_to_moon_km:\n",
        "    print(\"The folded paper after {} times arrives to the moon!\".format(folds))\n",
        "else:\n",
        "    print(\"The folded paper {} times doesn't arrives to the moon.\".format(folds))"
      ],
      "metadata": {
        "colab": {
          "base_uri": "https://localhost:8080/"
        },
        "id": "QhBmAt71_-gn",
        "outputId": "d4f2ab49-15cd-401a-f591-21bf3c931eb3"
      },
      "execution_count": 10,
      "outputs": [
        {
          "output_type": "stream",
          "name": "stdout",
          "text": [
            "Thickness after 43 folds: 703687.44 kilometers\n",
            "The folded paper after 43 times arrives to the moon!\n"
          ]
        }
      ]
    },
    {
      "cell_type": "code",
      "source": [
        "#Problem 3\n",
        "\n",
        "THICKNESS = 0.00008\n",
        "\n",
        "\n",
        "folded_thickness = THICKNESS\n",
        "\n",
        "# Folding the paper 43 times using a for loop\n",
        "for _ in range(43):\n",
        "    folded_thickness *= 2\n",
        "\n",
        "# Converting meters to kilometers\n",
        "folded_thickness_km = folded_thickness / 1000\n",
        "\n",
        "# Display thickness in kilometers to two decimal places\n",
        "print(\"Thickness: {:.2f} kilometers \".format(folded_thickness_km))\n",
        "\n",
        "\n",
        "# Checking if the folded paper arrives to the moon\n",
        "\n",
        "distance_to_moon_km = 384400\n",
        "if folded_thickness_km >= distance_to_moon_km:\n",
        "    print(\"The folded paper after {} times arrives to the moon.\".format(folds))\n",
        "else:\n",
        "    print(\"The folded paper {} times doesn't arrives to the moon.\".format(folds))"
      ],
      "metadata": {
        "colab": {
          "base_uri": "https://localhost:8080/"
        },
        "id": "CnrK-5bgJrjF",
        "outputId": "44a61fdc-3aba-47a7-d610-f62a4f9a11d0"
      },
      "execution_count": 14,
      "outputs": [
        {
          "output_type": "stream",
          "name": "stdout",
          "text": [
            "Thickness: 703687.44 kilometers \n",
            "The folded paper after 43 times arrives to the moon.\n"
          ]
        }
      ]
    },
    {
      "cell_type": "code",
      "source": [
        "# Problem 4\n",
        "\n",
        "import time\n",
        "\n",
        "# number of folds\n",
        "repetitions = 1000\n",
        "\n",
        "# Exponentiation method\n",
        "start = time.time()\n",
        "THICKNESS = 0.00008\n",
        "folded_thickness = THICKNESS * (2 ** repetitions)\n",
        "elapsed_time_exp = time.time() - start\n",
        "print(\"Exponentiation method - Time: {} [s]\".format(elapsed_time_exp))\n",
        "\n",
        "# For Method\n",
        "start = time.time()\n",
        "THICKNESS = 0.00008\n",
        "folded_thickness = THICKNESS\n",
        "for _ in range(repetitions):\n",
        "    folded_thickness *= 2\n",
        "elapsed_time_loop = time.time() - start\n",
        "print(\"Method with loop for - Time: {} [s]\".format(elapsed_time_loop))\n",
        "\n",
        "# Time comparison\n",
        "if elapsed_time_exp < elapsed_time_loop:\n",
        "    print(\"Exponentiation method is faster.\")\n",
        "else:\n",
        "    print(\"For loop method is faster.\")"
      ],
      "metadata": {
        "colab": {
          "base_uri": "https://localhost:8080/"
        },
        "id": "s8M8kOvJJbf_",
        "outputId": "bc6aa518-881c-4740-f15c-96a509cd3c9e"
      },
      "execution_count": 9,
      "outputs": [
        {
          "output_type": "stream",
          "name": "stdout",
          "text": [
            "Exponentiation method - Time: 0.00014138221740722656 [s]\n",
            "Method with loop for - Time: 0.00045490264892578125 [s]\n",
            "Exponentiation method is faster.\n"
          ]
        }
      ]
    },
    {
      "cell_type": "code",
      "source": [
        "#Problem 5, 6 and 7\n",
        "\n",
        "import matplotlib.pyplot as plt\n",
        "\n",
        "\n",
        "initial_thickness = 0.00008\n",
        "num_folds = 43\n",
        "thickness_values = []\n",
        "\n",
        "# Problem 5: Saving to a list\n",
        "current_thickness = initial_thickness\n",
        "thickness_values.append(current_thickness)\n",
        "for i in range(num_folds):\n",
        "    current_thickness *= 2\n",
        "    thickness_values.append(current_thickness)\n",
        "\n",
        "# Problem 6 & 7: Displaying a line graph & Customizing graphs\n",
        "\n",
        "plt.figure(figsize=(6, 6))\n",
        "plt.plot(range(num_folds + 1), thickness_values,marker='.', linestyle='-', color='green')\n",
        "plt.title(\"Exponential Growth of Paper Thickness\", fontsize=14)\n",
        "plt.xlabel(\"Number of Folds\", fontsize=12)\n",
        "plt.ylabel(\"Thickness (m)\", fontsize=12)\n",
        "plt.grid(True)\n",
        "plt.xticks(fontsize=12)\n",
        "plt.yticks(fontsize=12)\n",
        "plt.show()\n",
        "\n",
        "# Confirmation the number of values stored\n",
        "print(f\"Total recorded values: {len(thickness_values)}\")"
      ],
      "metadata": {
        "colab": {
          "base_uri": "https://localhost:8080/",
          "height": 590
        },
        "id": "hO8E22IuCULF",
        "outputId": "0d5b484d-c788-4ecd-9965-adcde14a6c9b"
      },
      "execution_count": 2,
      "outputs": [
        {
          "output_type": "display_data",
          "data": {
            "text/plain": [
              "<Figure size 600x600 with 1 Axes>"
            ],
            "image/png": "[encoded data removed]"
          },
          "metadata": {}
        },
        {
          "output_type": "stream",
          "name": "stdout",
          "text": [
            "Total recorded values: 44\n"
          ]
        }
      ]
    },
    {
      "cell_type": "code",
      "source": [],
      "metadata": {
        "id": "c-yCU17mJMbE"
      },
      "execution_count": null,
      "outputs": []
    }
  ]
}